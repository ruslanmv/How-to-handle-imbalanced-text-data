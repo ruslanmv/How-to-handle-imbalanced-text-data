{
 "cells": [
  {
   "cell_type": "code",
   "execution_count": 1,
   "id": "17204681",
   "metadata": {},
   "outputs": [],
   "source": [
    "#importing necessary libraries\n",
    "# General\n",
    "\n",
    "import numpy as np\n",
    "import pandas as pd\n",
    "import re\n",
    "import os\n",
    "import pickle\n",
    "\n",
    "# EDA\n",
    "\n",
    "import matplotlib.pyplot as plt\n",
    "import seaborn as sns \n",
    "import plotly.express as px\n",
    "from wordcloud import WordCloud\n",
    "from collections import Counter\n",
    "\n",
    "# NLP \n",
    "\n",
    "import nltk\n",
    "from nltk.corpus import stopwords\n",
    "from nltk.stem.porter import PorterStemmer\n",
    "from sklearn.feature_extraction.text import TfidfVectorizer\n",
    "from nltk.tokenize import word_tokenize \n",
    "\n",
    "# ML\n",
    "from sklearn.pipeline import Pipeline\n",
    "from sklearn.model_selection import train_test_split\n",
    "from sklearn.naive_bayes import MultinomialNB\n",
    "from sklearn.ensemble import RandomForestClassifier\n",
    "from xgboost import XGBClassifier\n",
    "from sklearn.svm import SVC\n",
    "from sklearn.metrics import classification_report, confusion_matrix"
   ]
  },
  {
   "cell_type": "code",
   "execution_count": 2,
   "id": "87e5be5d",
   "metadata": {},
   "outputs": [
    {
     "data": {
      "text/html": [
       "<div>\n",
       "<style scoped>\n",
       "    .dataframe tbody tr th:only-of-type {\n",
       "        vertical-align: middle;\n",
       "    }\n",
       "\n",
       "    .dataframe tbody tr th {\n",
       "        vertical-align: top;\n",
       "    }\n",
       "\n",
       "    .dataframe thead th {\n",
       "        text-align: right;\n",
       "    }\n",
       "</style>\n",
       "<table border=\"1\" class=\"dataframe\">\n",
       "  <thead>\n",
       "    <tr style=\"text-align: right;\">\n",
       "      <th></th>\n",
       "      <th>v1</th>\n",
       "      <th>v2</th>\n",
       "      <th>Unnamed: 2</th>\n",
       "      <th>Unnamed: 3</th>\n",
       "      <th>Unnamed: 4</th>\n",
       "    </tr>\n",
       "  </thead>\n",
       "  <tbody>\n",
       "    <tr>\n",
       "      <th>0</th>\n",
       "      <td>ham</td>\n",
       "      <td>Go until jurong point, crazy.. Available only ...</td>\n",
       "      <td>NaN</td>\n",
       "      <td>NaN</td>\n",
       "      <td>NaN</td>\n",
       "    </tr>\n",
       "    <tr>\n",
       "      <th>1</th>\n",
       "      <td>ham</td>\n",
       "      <td>Ok lar... Joking wif u oni...</td>\n",
       "      <td>NaN</td>\n",
       "      <td>NaN</td>\n",
       "      <td>NaN</td>\n",
       "    </tr>\n",
       "    <tr>\n",
       "      <th>2</th>\n",
       "      <td>spam</td>\n",
       "      <td>Free entry in 2 a wkly comp to win FA Cup fina...</td>\n",
       "      <td>NaN</td>\n",
       "      <td>NaN</td>\n",
       "      <td>NaN</td>\n",
       "    </tr>\n",
       "    <tr>\n",
       "      <th>3</th>\n",
       "      <td>ham</td>\n",
       "      <td>U dun say so early hor... U c already then say...</td>\n",
       "      <td>NaN</td>\n",
       "      <td>NaN</td>\n",
       "      <td>NaN</td>\n",
       "    </tr>\n",
       "    <tr>\n",
       "      <th>4</th>\n",
       "      <td>ham</td>\n",
       "      <td>Nah I don't think he goes to usf, he lives aro...</td>\n",
       "      <td>NaN</td>\n",
       "      <td>NaN</td>\n",
       "      <td>NaN</td>\n",
       "    </tr>\n",
       "  </tbody>\n",
       "</table>\n",
       "</div>"
      ],
      "text/plain": [
       "     v1                                                 v2 Unnamed: 2  \\\n",
       "0   ham  Go until jurong point, crazy.. Available only ...        NaN   \n",
       "1   ham                      Ok lar... Joking wif u oni...        NaN   \n",
       "2  spam  Free entry in 2 a wkly comp to win FA Cup fina...        NaN   \n",
       "3   ham  U dun say so early hor... U c already then say...        NaN   \n",
       "4   ham  Nah I don't think he goes to usf, he lives aro...        NaN   \n",
       "\n",
       "  Unnamed: 3 Unnamed: 4  \n",
       "0        NaN        NaN  \n",
       "1        NaN        NaN  \n",
       "2        NaN        NaN  \n",
       "3        NaN        NaN  \n",
       "4        NaN        NaN  "
      ]
     },
     "execution_count": 2,
     "metadata": {},
     "output_type": "execute_result"
    }
   ],
   "source": [
    "df=pd.read_csv('spam.csv',encoding = 'latin-1')\n",
    "df.head()"
   ]
  },
  {
   "cell_type": "code",
   "execution_count": 3,
   "id": "4216f9f7",
   "metadata": {},
   "outputs": [
    {
     "data": {
      "text/plain": [
       "<AxesSubplot: >"
      ]
     },
     "execution_count": 3,
     "metadata": {},
     "output_type": "execute_result"
    },
    {
     "data": {
      "image/png": "[encoded data removed]",
      "text/plain": [
       "<Figure size 640x480 with 1 Axes>"
      ]
     },
     "metadata": {},
     "output_type": "display_data"
    }
   ],
   "source": [
    "df['v1'].value_counts(dropna=False).plot(kind='bar')"
   ]
  },
  {
   "cell_type": "code",
   "execution_count": 4,
   "id": "a7df741a",
   "metadata": {},
   "outputs": [
    {
     "name": "stdout",
     "output_type": "stream",
     "text": [
      "<class 'pandas.core.frame.DataFrame'>\n",
      "RangeIndex: 5572 entries, 0 to 5571\n",
      "Data columns (total 5 columns):\n",
      " #   Column      Non-Null Count  Dtype \n",
      "---  ------      --------------  ----- \n",
      " 0   v1          5572 non-null   object\n",
      " 1   v2          5572 non-null   object\n",
      " 2   Unnamed: 2  50 non-null     object\n",
      " 3   Unnamed: 3  12 non-null     object\n",
      " 4   Unnamed: 4  6 non-null      object\n",
      "dtypes: object(5)\n",
      "memory usage: 217.8+ KB\n"
     ]
    }
   ],
   "source": [
    "df.info()"
   ]
  },
  {
   "cell_type": "code",
   "execution_count": 5,
   "id": "524e0667",
   "metadata": {},
   "outputs": [
    {
     "data": {
      "text/html": [
       "<div>\n",
       "<style scoped>\n",
       "    .dataframe tbody tr th:only-of-type {\n",
       "        vertical-align: middle;\n",
       "    }\n",
       "\n",
       "    .dataframe tbody tr th {\n",
       "        vertical-align: top;\n",
       "    }\n",
       "\n",
       "    .dataframe thead th {\n",
       "        text-align: right;\n",
       "    }\n",
       "</style>\n",
       "<table border=\"1\" class=\"dataframe\">\n",
       "  <thead>\n",
       "    <tr style=\"text-align: right;\">\n",
       "      <th></th>\n",
       "      <th>v1</th>\n",
       "      <th>v2</th>\n",
       "      <th>Unnamed: 2</th>\n",
       "      <th>Unnamed: 3</th>\n",
       "      <th>Unnamed: 4</th>\n",
       "    </tr>\n",
       "  </thead>\n",
       "  <tbody>\n",
       "    <tr>\n",
       "      <th>count</th>\n",
       "      <td>5572</td>\n",
       "      <td>5572</td>\n",
       "      <td>50</td>\n",
       "      <td>12</td>\n",
       "      <td>6</td>\n",
       "    </tr>\n",
       "    <tr>\n",
       "      <th>unique</th>\n",
       "      <td>2</td>\n",
       "      <td>5169</td>\n",
       "      <td>43</td>\n",
       "      <td>10</td>\n",
       "      <td>5</td>\n",
       "    </tr>\n",
       "    <tr>\n",
       "      <th>top</th>\n",
       "      <td>ham</td>\n",
       "      <td>Sorry, I'll call later</td>\n",
       "      <td>bt not his girlfrnd... G o o d n i g h t . . .@\"</td>\n",
       "      <td>MK17 92H. 450Ppw 16\"</td>\n",
       "      <td>GNT:-)\"</td>\n",
       "    </tr>\n",
       "    <tr>\n",
       "      <th>freq</th>\n",
       "      <td>4825</td>\n",
       "      <td>30</td>\n",
       "      <td>3</td>\n",
       "      <td>2</td>\n",
       "      <td>2</td>\n",
       "    </tr>\n",
       "  </tbody>\n",
       "</table>\n",
       "</div>"
      ],
      "text/plain": [
       "          v1                      v2  \\\n",
       "count   5572                    5572   \n",
       "unique     2                    5169   \n",
       "top      ham  Sorry, I'll call later   \n",
       "freq    4825                      30   \n",
       "\n",
       "                                               Unnamed: 2  \\\n",
       "count                                                  50   \n",
       "unique                                                 43   \n",
       "top      bt not his girlfrnd... G o o d n i g h t . . .@\"   \n",
       "freq                                                    3   \n",
       "\n",
       "                   Unnamed: 3 Unnamed: 4  \n",
       "count                      12          6  \n",
       "unique                     10          5  \n",
       "top      MK17 92H. 450Ppw 16\"    GNT:-)\"  \n",
       "freq                        2          2  "
      ]
     },
     "execution_count": 5,
     "metadata": {},
     "output_type": "execute_result"
    }
   ],
   "source": [
    "df.describe()"
   ]
  },
  {
   "cell_type": "code",
   "execution_count": 6,
   "id": "01bc09d5",
   "metadata": {},
   "outputs": [
    {
     "data": {
      "text/plain": [
       "v1               0\n",
       "v2               0\n",
       "Unnamed: 2    5522\n",
       "Unnamed: 3    5560\n",
       "Unnamed: 4    5566\n",
       "dtype: int64"
      ]
     },
     "execution_count": 6,
     "metadata": {},
     "output_type": "execute_result"
    }
   ],
   "source": [
    "#checking for null values\n",
    "df.isnull().sum()"
   ]
  },
  {
   "cell_type": "code",
   "execution_count": 7,
   "id": "4de9cfb1",
   "metadata": {},
   "outputs": [
    {
     "data": {
      "text/plain": [
       "v1    0\n",
       "v2    0\n",
       "dtype: int64"
      ]
     },
     "execution_count": 7,
     "metadata": {},
     "output_type": "execute_result"
    }
   ],
   "source": [
    "#dropping the column with more null values\n",
    "df.drop(['Unnamed: 2','Unnamed: 3','Unnamed: 4'],axis=1,inplace=True)\n",
    "df.isnull().sum()"
   ]
  },
  {
   "cell_type": "code",
   "execution_count": 8,
   "id": "88389a68",
   "metadata": {},
   "outputs": [
    {
     "data": {
      "text/html": [
       "<div>\n",
       "<style scoped>\n",
       "    .dataframe tbody tr th:only-of-type {\n",
       "        vertical-align: middle;\n",
       "    }\n",
       "\n",
       "    .dataframe tbody tr th {\n",
       "        vertical-align: top;\n",
       "    }\n",
       "\n",
       "    .dataframe thead th {\n",
       "        text-align: right;\n",
       "    }\n",
       "</style>\n",
       "<table border=\"1\" class=\"dataframe\">\n",
       "  <thead>\n",
       "    <tr style=\"text-align: right;\">\n",
       "      <th></th>\n",
       "      <th>label</th>\n",
       "      <th>text</th>\n",
       "    </tr>\n",
       "  </thead>\n",
       "  <tbody>\n",
       "    <tr>\n",
       "      <th>0</th>\n",
       "      <td>ham</td>\n",
       "      <td>Go until jurong point, crazy.. Available only ...</td>\n",
       "    </tr>\n",
       "    <tr>\n",
       "      <th>1</th>\n",
       "      <td>ham</td>\n",
       "      <td>Ok lar... Joking wif u oni...</td>\n",
       "    </tr>\n",
       "    <tr>\n",
       "      <th>2</th>\n",
       "      <td>spam</td>\n",
       "      <td>Free entry in 2 a wkly comp to win FA Cup fina...</td>\n",
       "    </tr>\n",
       "    <tr>\n",
       "      <th>3</th>\n",
       "      <td>ham</td>\n",
       "      <td>U dun say so early hor... U c already then say...</td>\n",
       "    </tr>\n",
       "    <tr>\n",
       "      <th>4</th>\n",
       "      <td>ham</td>\n",
       "      <td>Nah I don't think he goes to usf, he lives aro...</td>\n",
       "    </tr>\n",
       "  </tbody>\n",
       "</table>\n",
       "</div>"
      ],
      "text/plain": [
       "  label                                               text\n",
       "0   ham  Go until jurong point, crazy.. Available only ...\n",
       "1   ham                      Ok lar... Joking wif u oni...\n",
       "2  spam  Free entry in 2 a wkly comp to win FA Cup fina...\n",
       "3   ham  U dun say so early hor... U c already then say...\n",
       "4   ham  Nah I don't think he goes to usf, he lives aro..."
      ]
     },
     "execution_count": 8,
     "metadata": {},
     "output_type": "execute_result"
    }
   ],
   "source": [
    "#renaming the columns\n",
    "df=df.rename({'v1':'label','v2':'text'},axis=1)\n",
    "df.head()"
   ]
  },
  {
   "cell_type": "markdown",
   "id": "0d2af340",
   "metadata": {},
   "source": [
    "Calculating the length of each data sample\n",
    "We will create a new length column that will show the length of each data sample. This new column will help us with preprocessing the data samples."
   ]
  },
  {
   "cell_type": "code",
   "execution_count": 9,
   "id": "9f4419f8",
   "metadata": {},
   "outputs": [],
   "source": [
    "df['length'] = df['text'].apply(lambda x: len(x))"
   ]
  },
  {
   "cell_type": "code",
   "execution_count": 10,
   "id": "dd641795",
   "metadata": {},
   "outputs": [
    {
     "data": {
      "text/html": [
       "<div>\n",
       "<style scoped>\n",
       "    .dataframe tbody tr th:only-of-type {\n",
       "        vertical-align: middle;\n",
       "    }\n",
       "\n",
       "    .dataframe tbody tr th {\n",
       "        vertical-align: top;\n",
       "    }\n",
       "\n",
       "    .dataframe thead th {\n",
       "        text-align: right;\n",
       "    }\n",
       "</style>\n",
       "<table border=\"1\" class=\"dataframe\">\n",
       "  <thead>\n",
       "    <tr style=\"text-align: right;\">\n",
       "      <th></th>\n",
       "      <th>label</th>\n",
       "      <th>text</th>\n",
       "      <th>length</th>\n",
       "    </tr>\n",
       "  </thead>\n",
       "  <tbody>\n",
       "    <tr>\n",
       "      <th>0</th>\n",
       "      <td>ham</td>\n",
       "      <td>Go until jurong point, crazy.. Available only ...</td>\n",
       "      <td>111</td>\n",
       "    </tr>\n",
       "    <tr>\n",
       "      <th>1</th>\n",
       "      <td>ham</td>\n",
       "      <td>Ok lar... Joking wif u oni...</td>\n",
       "      <td>29</td>\n",
       "    </tr>\n",
       "    <tr>\n",
       "      <th>2</th>\n",
       "      <td>spam</td>\n",
       "      <td>Free entry in 2 a wkly comp to win FA Cup fina...</td>\n",
       "      <td>155</td>\n",
       "    </tr>\n",
       "    <tr>\n",
       "      <th>3</th>\n",
       "      <td>ham</td>\n",
       "      <td>U dun say so early hor... U c already then say...</td>\n",
       "      <td>49</td>\n",
       "    </tr>\n",
       "    <tr>\n",
       "      <th>4</th>\n",
       "      <td>ham</td>\n",
       "      <td>Nah I don't think he goes to usf, he lives aro...</td>\n",
       "      <td>61</td>\n",
       "    </tr>\n",
       "  </tbody>\n",
       "</table>\n",
       "</div>"
      ],
      "text/plain": [
       "  label                                               text  length\n",
       "0   ham  Go until jurong point, crazy.. Available only ...     111\n",
       "1   ham                      Ok lar... Joking wif u oni...      29\n",
       "2  spam  Free entry in 2 a wkly comp to win FA Cup fina...     155\n",
       "3   ham  U dun say so early hor... U c already then say...      49\n",
       "4   ham  Nah I don't think he goes to usf, he lives aro...      61"
      ]
     },
     "execution_count": 10,
     "metadata": {},
     "output_type": "execute_result"
    }
   ],
   "source": [
    "df.head()"
   ]
  },
  {
   "cell_type": "markdown",
   "id": "feff03af",
   "metadata": {},
   "source": [
    "Distribution based on length of words\n",
    "\n"
   ]
  },
  {
   "cell_type": "code",
   "execution_count": 11,
   "id": "518f9ae3",
   "metadata": {},
   "outputs": [],
   "source": [
    "#analyzing text\n",
    "df['length']=df['text'].apply(lambda x: len(x))"
   ]
  },
  {
   "cell_type": "code",
   "execution_count": 12,
   "id": "418c455e",
   "metadata": {},
   "outputs": [
    {
     "name": "stderr",
     "output_type": "stream",
     "text": [
      "C:\\Users\\rusla\\AppData\\Local\\Temp\\ipykernel_31156\\56211616.py:1: UserWarning: \n",
      "\n",
      "`distplot` is a deprecated function and will be removed in seaborn v0.14.0.\n",
      "\n",
      "Please adapt your code to use either `displot` (a figure-level function with\n",
      "similar flexibility) or `histplot` (an axes-level function for histograms).\n",
      "\n",
      "For a guide to updating your code to use the new functions, please see\n",
      "https://gist.github.com/mwaskom/de44147ed2974457ad6372750bbe5751\n",
      "\n",
      "  sns.distplot(df['length'], kde=True)\n"
     ]
    },
    {
     "data": {
      "text/plain": [
       "<AxesSubplot: xlabel='length', ylabel='Density'>"
      ]
     },
     "execution_count": 12,
     "metadata": {},
     "output_type": "execute_result"
    },
    {
     "data": {
      "image/png": "[encoded data removed]",
      "text/plain": [
       "<Figure size 640x480 with 1 Axes>"
      ]
     },
     "metadata": {},
     "output_type": "display_data"
    }
   ],
   "source": [
    "sns.distplot(df['length'], kde=True)"
   ]
  },
  {
   "cell_type": "code",
   "execution_count": 13,
   "id": "c4c11d62",
   "metadata": {},
   "outputs": [
    {
     "data": {
      "text/plain": [
       "<AxesSubplot: xlabel='label', ylabel='length'>"
      ]
     },
     "execution_count": 13,
     "metadata": {},
     "output_type": "execute_result"
    },
    {
     "data": {
      "image/png": "[encoded data removed]",
      "text/plain": [
       "<Figure size 640x480 with 1 Axes>"
      ]
     },
     "metadata": {},
     "output_type": "display_data"
    }
   ],
   "source": [
    "sns.boxplot(y='length', x='label', data=df)"
   ]
  },
  {
   "cell_type": "code",
   "execution_count": 14,
   "id": "ac676032",
   "metadata": {},
   "outputs": [
    {
     "data": {
      "text/html": [
       "<div>\n",
       "<style scoped>\n",
       "    .dataframe tbody tr th:only-of-type {\n",
       "        vertical-align: middle;\n",
       "    }\n",
       "\n",
       "    .dataframe tbody tr th {\n",
       "        vertical-align: top;\n",
       "    }\n",
       "\n",
       "    .dataframe thead th {\n",
       "        text-align: right;\n",
       "    }\n",
       "</style>\n",
       "<table border=\"1\" class=\"dataframe\">\n",
       "  <thead>\n",
       "    <tr style=\"text-align: right;\">\n",
       "      <th></th>\n",
       "      <th>label</th>\n",
       "      <th>text</th>\n",
       "      <th>length</th>\n",
       "    </tr>\n",
       "  </thead>\n",
       "  <tbody>\n",
       "    <tr>\n",
       "      <th>0</th>\n",
       "      <td>ham</td>\n",
       "      <td>Go until jurong point, crazy.. Available only ...</td>\n",
       "      <td>111</td>\n",
       "    </tr>\n",
       "    <tr>\n",
       "      <th>1</th>\n",
       "      <td>ham</td>\n",
       "      <td>Ok lar... Joking wif u oni...</td>\n",
       "      <td>29</td>\n",
       "    </tr>\n",
       "    <tr>\n",
       "      <th>2</th>\n",
       "      <td>spam</td>\n",
       "      <td>Free entry in 2 a wkly comp to win FA Cup fina...</td>\n",
       "      <td>155</td>\n",
       "    </tr>\n",
       "    <tr>\n",
       "      <th>3</th>\n",
       "      <td>ham</td>\n",
       "      <td>U dun say so early hor... U c already then say...</td>\n",
       "      <td>49</td>\n",
       "    </tr>\n",
       "    <tr>\n",
       "      <th>4</th>\n",
       "      <td>ham</td>\n",
       "      <td>Nah I don't think he goes to usf, he lives aro...</td>\n",
       "      <td>61</td>\n",
       "    </tr>\n",
       "  </tbody>\n",
       "</table>\n",
       "</div>"
      ],
      "text/plain": [
       "  label                                               text  length\n",
       "0   ham  Go until jurong point, crazy.. Available only ...     111\n",
       "1   ham                      Ok lar... Joking wif u oni...      29\n",
       "2  spam  Free entry in 2 a wkly comp to win FA Cup fina...     155\n",
       "3   ham  U dun say so early hor... U c already then say...      49\n",
       "4   ham  Nah I don't think he goes to usf, he lives aro...      61"
      ]
     },
     "execution_count": 14,
     "metadata": {},
     "output_type": "execute_result"
    }
   ],
   "source": [
    "df.head()"
   ]
  },
  {
   "cell_type": "markdown",
   "id": "3e151343",
   "metadata": {},
   "source": [
    "## Data Preprocessing"
   ]
  },
  {
   "cell_type": "markdown",
   "id": "b8fefa60",
   "metadata": {},
   "source": [
    "NLTK has smaller sub-libraries that perform specific text cleaning tasks. These smaller libraries also have methods for text cleaning."
   ]
  },
  {
   "cell_type": "code",
   "execution_count": 15,
   "id": "88ab4412",
   "metadata": {},
   "outputs": [
    {
     "name": "stderr",
     "output_type": "stream",
     "text": [
      "[nltk_data] Downloading package punkt to\n",
      "[nltk_data]     C:\\Users\\rusla\\AppData\\Roaming\\nltk_data...\n",
      "[nltk_data]   Package punkt is already up-to-date!\n"
     ]
    },
    {
     "data": {
      "text/plain": [
       "True"
      ]
     },
     "execution_count": 15,
     "metadata": {},
     "output_type": "execute_result"
    }
   ],
   "source": [
    "from nltk.stem import WordNetLemmatizer\n",
    "from nltk import word_tokenize\n",
    "import re\n",
    "nltk.download('punkt')"
   ]
  },
  {
   "cell_type": "markdown",
   "id": "9a6a26ff",
   "metadata": {},
   "source": [
    "Downloading stop words\n",
    "We download the English stop words so that the model can identify the stop words in the texts and remove them."
   ]
  },
  {
   "cell_type": "code",
   "execution_count": 16,
   "id": "aabca268",
   "metadata": {
    "scrolled": true
   },
   "outputs": [
    {
     "name": "stderr",
     "output_type": "stream",
     "text": [
      "[nltk_data] Downloading package stopwords to\n",
      "[nltk_data]     C:\\Users\\rusla\\AppData\\Roaming\\nltk_data...\n",
      "[nltk_data]   Package stopwords is already up-to-date!\n",
      "[nltk_data] Downloading package omw-1.4 to\n",
      "[nltk_data]     C:\\Users\\rusla\\AppData\\Roaming\\nltk_data...\n",
      "[nltk_data]   Package omw-1.4 is already up-to-date!\n"
     ]
    },
    {
     "data": {
      "text/plain": [
       "True"
      ]
     },
     "execution_count": 16,
     "metadata": {},
     "output_type": "execute_result"
    }
   ],
   "source": [
    "nltk.download('stopwords')\n",
    "nltk.download('omw-1.4')"
   ]
  },
  {
   "cell_type": "markdown",
   "id": "1222255c",
   "metadata": {},
   "source": [
    "We will use it to remove all the stop words in the dataset. We will then create custom functions for text cleaning and pass in the imported methods as parameters. To implement the custom functions, we will require Python regular expression (RegEx) module."
   ]
  },
  {
   "cell_type": "code",
   "execution_count": 17,
   "id": "fb8f95b9",
   "metadata": {},
   "outputs": [],
   "source": [
    "def convert_to_lower(text):\n",
    "    return text.lower()\n",
    "def remove_numbers(text):\n",
    "    number_pattern = r'\\d+'\n",
    "    without_number = re.sub(pattern=number_pattern, repl=\" \", string=text)\n",
    "    return without_number\n",
    "\n",
    "import string\n",
    "def remove_punctuation(text):\n",
    "    return text.translate(str.maketrans('', '', string.punctuation))\n",
    "\n",
    "def remove_stopwords(text):\n",
    "    removed = []\n",
    "    stop_words = list(stopwords.words(\"english\"))\n",
    "    tokens = word_tokenize(text)\n",
    "    for i in range(len(tokens)):\n",
    "        if tokens[i] not in stop_words:\n",
    "            removed.append(tokens[i])\n",
    "    return \" \".join(removed)\n",
    "def remove_extra_white_spaces(text):\n",
    "    single_char_pattern = r'\\s+[a-zA-Z]\\s+'\n",
    "    without_sc = re.sub(pattern=single_char_pattern, repl=\" \", string=text)\n",
    "    return without_sc\n",
    "def lemmatizing(text):\n",
    "    lemmatizer = WordNetLemmatizer()\n",
    "    tokens = word_tokenize(text)\n",
    "    for i in range(len(tokens)):\n",
    "        lemma_word = lemmatizer.lemmatize(tokens[i])\n",
    "        tokens[i] = lemma_word\n",
    "    return \" \".join(tokens)\n",
    "\n"
   ]
  },
  {
   "cell_type": "code",
   "execution_count": 18,
   "id": "3efd49a0",
   "metadata": {},
   "outputs": [],
   "source": [
    "df['text_clean'] = df['text'].apply(lambda x: convert_to_lower(x))"
   ]
  },
  {
   "cell_type": "code",
   "execution_count": 19,
   "id": "4932826d",
   "metadata": {},
   "outputs": [],
   "source": [
    "df['text_clean'] = df['text_clean'].apply(lambda x: remove_numbers(x))"
   ]
  },
  {
   "cell_type": "code",
   "execution_count": 20,
   "id": "082b5198",
   "metadata": {},
   "outputs": [],
   "source": [
    "df['text_clean'] = df['text_clean'].apply(lambda x: remove_punctuation(x))"
   ]
  },
  {
   "cell_type": "code",
   "execution_count": 21,
   "id": "04fbd884",
   "metadata": {},
   "outputs": [],
   "source": [
    "df['text_clean'] = df['text_clean'].apply(lambda x: remove_stopwords(x))"
   ]
  },
  {
   "cell_type": "code",
   "execution_count": 22,
   "id": "37ff73ff",
   "metadata": {},
   "outputs": [],
   "source": [
    "df['text_clean'] = df['text_clean'].apply(lambda x: remove_extra_white_spaces(x))"
   ]
  },
  {
   "cell_type": "code",
   "execution_count": 23,
   "id": "f3b07e33",
   "metadata": {},
   "outputs": [],
   "source": [
    "df['text_clean'] = df['text_clean'].apply(lambda x: lemmatizing(x))"
   ]
  },
  {
   "cell_type": "code",
   "execution_count": 24,
   "id": "3e4366bc",
   "metadata": {},
   "outputs": [],
   "source": [
    "df['length_after_cleaning'] = df['text_clean'].apply(lambda x: len(x))\n"
   ]
  },
  {
   "cell_type": "code",
   "execution_count": 25,
   "id": "9cae9e70",
   "metadata": {},
   "outputs": [
    {
     "data": {
      "text/html": [
       "<div>\n",
       "<style scoped>\n",
       "    .dataframe tbody tr th:only-of-type {\n",
       "        vertical-align: middle;\n",
       "    }\n",
       "\n",
       "    .dataframe tbody tr th {\n",
       "        vertical-align: top;\n",
       "    }\n",
       "\n",
       "    .dataframe thead th {\n",
       "        text-align: right;\n",
       "    }\n",
       "</style>\n",
       "<table border=\"1\" class=\"dataframe\">\n",
       "  <thead>\n",
       "    <tr style=\"text-align: right;\">\n",
       "      <th></th>\n",
       "      <th>label</th>\n",
       "      <th>text</th>\n",
       "      <th>length</th>\n",
       "      <th>text_clean</th>\n",
       "      <th>length_after_cleaning</th>\n",
       "    </tr>\n",
       "  </thead>\n",
       "  <tbody>\n",
       "    <tr>\n",
       "      <th>0</th>\n",
       "      <td>ham</td>\n",
       "      <td>Go until jurong point, crazy.. Available only ...</td>\n",
       "      <td>111</td>\n",
       "      <td>go jurong point crazy available bugis great wo...</td>\n",
       "      <td>78</td>\n",
       "    </tr>\n",
       "    <tr>\n",
       "      <th>1</th>\n",
       "      <td>ham</td>\n",
       "      <td>Ok lar... Joking wif u oni...</td>\n",
       "      <td>29</td>\n",
       "      <td>ok lar joking wif oni</td>\n",
       "      <td>21</td>\n",
       "    </tr>\n",
       "    <tr>\n",
       "      <th>2</th>\n",
       "      <td>spam</td>\n",
       "      <td>Free entry in 2 a wkly comp to win FA Cup fina...</td>\n",
       "      <td>155</td>\n",
       "      <td>free entry wkly comp win fa cup final tkts st ...</td>\n",
       "      <td>101</td>\n",
       "    </tr>\n",
       "    <tr>\n",
       "      <th>3</th>\n",
       "      <td>ham</td>\n",
       "      <td>U dun say so early hor... U c already then say...</td>\n",
       "      <td>49</td>\n",
       "      <td>u dun say early hor c already say</td>\n",
       "      <td>33</td>\n",
       "    </tr>\n",
       "    <tr>\n",
       "      <th>4</th>\n",
       "      <td>ham</td>\n",
       "      <td>Nah I don't think he goes to usf, he lives aro...</td>\n",
       "      <td>61</td>\n",
       "      <td>nah dont think go usf life around though</td>\n",
       "      <td>40</td>\n",
       "    </tr>\n",
       "  </tbody>\n",
       "</table>\n",
       "</div>"
      ],
      "text/plain": [
       "  label                                               text  length  \\\n",
       "0   ham  Go until jurong point, crazy.. Available only ...     111   \n",
       "1   ham                      Ok lar... Joking wif u oni...      29   \n",
       "2  spam  Free entry in 2 a wkly comp to win FA Cup fina...     155   \n",
       "3   ham  U dun say so early hor... U c already then say...      49   \n",
       "4   ham  Nah I don't think he goes to usf, he lives aro...      61   \n",
       "\n",
       "                                          text_clean  length_after_cleaning  \n",
       "0  go jurong point crazy available bugis great wo...                     78  \n",
       "1                              ok lar joking wif oni                     21  \n",
       "2  free entry wkly comp win fa cup final tkts st ...                    101  \n",
       "3                  u dun say early hor c already say                     33  \n",
       "4           nah dont think go usf life around though                     40  "
      ]
     },
     "execution_count": 25,
     "metadata": {},
     "output_type": "execute_result"
    }
   ],
   "source": [
    "df.head()"
   ]
  },
  {
   "cell_type": "code",
   "execution_count": 26,
   "id": "bf7bcb4b",
   "metadata": {},
   "outputs": [],
   "source": [
    "def get_corpus(df):\n",
    "    corpus = []\n",
    "    ps = PorterStemmer()\n",
    "    for i in range(len(df)):\n",
    "        msg = re.sub('[^a-zA-Z]', ' ', df['text'][i]) #removing non alphabetics\n",
    "        msg = msg.lower()#lowering the case\n",
    "        msg = msg.split()\n",
    "        msg = [ps.stem(word) for word in msg if not word in stopwords.words('english')] # Stemming & Stopwords Removal\n",
    "        msg = ' '.join(msg)\n",
    "        corpus.append(msg)\n",
    "    return corpus"
   ]
  },
  {
   "cell_type": "code",
   "execution_count": 27,
   "id": "a35f9841",
   "metadata": {},
   "outputs": [],
   "source": [
    "corpus=get_corpus(df)"
   ]
  },
  {
   "cell_type": "code",
   "execution_count": 28,
   "id": "8936ff76",
   "metadata": {},
   "outputs": [
    {
     "data": {
      "text/html": [
       "<div>\n",
       "<style scoped>\n",
       "    .dataframe tbody tr th:only-of-type {\n",
       "        vertical-align: middle;\n",
       "    }\n",
       "\n",
       "    .dataframe tbody tr th {\n",
       "        vertical-align: top;\n",
       "    }\n",
       "\n",
       "    .dataframe thead th {\n",
       "        text-align: right;\n",
       "    }\n",
       "</style>\n",
       "<table border=\"1\" class=\"dataframe\">\n",
       "  <thead>\n",
       "    <tr style=\"text-align: right;\">\n",
       "      <th></th>\n",
       "      <th>label</th>\n",
       "      <th>text</th>\n",
       "      <th>length</th>\n",
       "      <th>text_clean</th>\n",
       "      <th>length_after_cleaning</th>\n",
       "      <th>corpus</th>\n",
       "    </tr>\n",
       "  </thead>\n",
       "  <tbody>\n",
       "    <tr>\n",
       "      <th>0</th>\n",
       "      <td>ham</td>\n",
       "      <td>Go until jurong point, crazy.. Available only ...</td>\n",
       "      <td>111</td>\n",
       "      <td>go jurong point crazy available bugis great wo...</td>\n",
       "      <td>78</td>\n",
       "      <td>go jurong point crazi avail bugi n great world...</td>\n",
       "    </tr>\n",
       "    <tr>\n",
       "      <th>1</th>\n",
       "      <td>ham</td>\n",
       "      <td>Ok lar... Joking wif u oni...</td>\n",
       "      <td>29</td>\n",
       "      <td>ok lar joking wif oni</td>\n",
       "      <td>21</td>\n",
       "      <td>ok lar joke wif u oni</td>\n",
       "    </tr>\n",
       "    <tr>\n",
       "      <th>2</th>\n",
       "      <td>spam</td>\n",
       "      <td>Free entry in 2 a wkly comp to win FA Cup fina...</td>\n",
       "      <td>155</td>\n",
       "      <td>free entry wkly comp win fa cup final tkts st ...</td>\n",
       "      <td>101</td>\n",
       "      <td>free entri wkli comp win fa cup final tkt st m...</td>\n",
       "    </tr>\n",
       "    <tr>\n",
       "      <th>3</th>\n",
       "      <td>ham</td>\n",
       "      <td>U dun say so early hor... U c already then say...</td>\n",
       "      <td>49</td>\n",
       "      <td>u dun say early hor c already say</td>\n",
       "      <td>33</td>\n",
       "      <td>u dun say earli hor u c alreadi say</td>\n",
       "    </tr>\n",
       "    <tr>\n",
       "      <th>4</th>\n",
       "      <td>ham</td>\n",
       "      <td>Nah I don't think he goes to usf, he lives aro...</td>\n",
       "      <td>61</td>\n",
       "      <td>nah dont think go usf life around though</td>\n",
       "      <td>40</td>\n",
       "      <td>nah think goe usf live around though</td>\n",
       "    </tr>\n",
       "  </tbody>\n",
       "</table>\n",
       "</div>"
      ],
      "text/plain": [
       "  label                                               text  length  \\\n",
       "0   ham  Go until jurong point, crazy.. Available only ...     111   \n",
       "1   ham                      Ok lar... Joking wif u oni...      29   \n",
       "2  spam  Free entry in 2 a wkly comp to win FA Cup fina...     155   \n",
       "3   ham  U dun say so early hor... U c already then say...      49   \n",
       "4   ham  Nah I don't think he goes to usf, he lives aro...      61   \n",
       "\n",
       "                                          text_clean  length_after_cleaning  \\\n",
       "0  go jurong point crazy available bugis great wo...                     78   \n",
       "1                              ok lar joking wif oni                     21   \n",
       "2  free entry wkly comp win fa cup final tkts st ...                    101   \n",
       "3                  u dun say early hor c already say                     33   \n",
       "4           nah dont think go usf life around though                     40   \n",
       "\n",
       "                                              corpus  \n",
       "0  go jurong point crazi avail bugi n great world...  \n",
       "1                              ok lar joke wif u oni  \n",
       "2  free entri wkli comp win fa cup final tkt st m...  \n",
       "3                u dun say earli hor u c alreadi say  \n",
       "4               nah think goe usf live around though  "
      ]
     },
     "execution_count": 28,
     "metadata": {},
     "output_type": "execute_result"
    }
   ],
   "source": [
    "#adding new column\n",
    "df['corpus'] = corpus\n",
    "df.head()"
   ]
  },
  {
   "cell_type": "code",
   "execution_count": 29,
   "id": "c514523d",
   "metadata": {},
   "outputs": [],
   "source": [
    "wordcloud =False\n",
    "if wordcloud:\n",
    "    plt.figure(figsize = (24, 6))\n",
    "    wc = WordCloud(min_font_size = 10, background_color = 'lightblue')\n",
    "    spam_wc = wc.generate(df[df['label'] == 'spam']['corpus'].str.cat(sep = \" \"))\n",
    "    plt.xticks([])\n",
    "    plt.yticks([])\n",
    "    plt.imshow(spam_wc)\n",
    "    \n",
    "    plt.figure(figsize = (24, 6))\n",
    "    wc = WordCloud(min_font_size = 10, background_color = 'lightblue')\n",
    "    ham_wc = wc.generate(df[df['label'] == 'ham']['corpus'].str.cat(sep = \" \"))\n",
    "    plt.xticks([])\n",
    "    plt.yticks([])\n",
    "    plt.imshow(ham_wc);\n"
   ]
  },
  {
   "cell_type": "code",
   "execution_count": 31,
   "id": "2c6d3615",
   "metadata": {},
   "outputs": [],
   "source": [
    "#transform the values of the output variable into 0 and 1\n",
    "#We can create the label map as follows:\n",
    "label_map = {\n",
    "    'ham': 0,\n",
    "    'spam': 1,\n",
    "}\n",
    "df['label'] = df['label'].map(label_map)"
   ]
  },
  {
   "cell_type": "markdown",
   "id": "96f93181",
   "metadata": {},
   "source": [
    "## Implementing text vectorization\n",
    "It converts the raw text into a format the NLP model can understand and use. Vectorization will create a numerical representation of the text strings called a sparse matrix or word vectors. The model works with numbers and not raw text. We will use TfidfVectorizer to create the sparse matrix."
   ]
  },
  {
   "cell_type": "code",
   "execution_count": 32,
   "id": "b4b3df8a",
   "metadata": {},
   "outputs": [],
   "source": [
    "from sklearn.feature_extraction.text import TfidfVectorizer\n",
    "import numpy as np\n",
    "tf_wb= TfidfVectorizer()\n",
    "X_tf = tf_wb.fit_transform(df['text_clean'])\n",
    "#Converting the sparse matrix into an array\n",
    "#We then apply the toarray function to convert the sparse matrix into an array.\n",
    "X_tf = X_tf.toarray()"
   ]
  },
  {
   "cell_type": "code",
   "execution_count": 33,
   "id": "ba7287a8",
   "metadata": {},
   "outputs": [
    {
     "name": "stdout",
     "output_type": "stream",
     "text": [
      "[0 0 0 ... 0 0 0]\n",
      "0.8767942583732058\n"
     ]
    }
   ],
   "source": [
    "X_tf.shape\n",
    "X_train_tf, X_test_tf, y_train_tf, y_test_tf = train_test_split(X_tf, df['label'].values, test_size=0.3)\n",
    "from sklearn.naive_bayes import GaussianNB\n",
    "NB = GaussianNB()\n",
    "NB.fit(X_train_tf, y_train_tf)\n",
    "NB_pred= NB.predict(X_test_tf)\n",
    "print(NB_pred)\n",
    "from sklearn.metrics import accuracy_score\n",
    "print(accuracy_score(y_test_tf, NB_pred))"
   ]
  },
  {
   "cell_type": "code",
   "execution_count": 34,
   "id": "b1136632",
   "metadata": {},
   "outputs": [],
   "source": [
    "from imblearn.over_sampling import RandomOverSampler"
   ]
  },
  {
   "cell_type": "markdown",
   "id": "b6dd6204",
   "metadata": {},
   "source": [
    "We will use the RandomOverSampler function to balance the classes."
   ]
  },
  {
   "cell_type": "markdown",
   "id": "9a3eeff1",
   "metadata": {},
   "source": [
    "RandomOverSampler will increase the data samples in the minority class (spam). It makes the minority class have the same data samples as the majority class (ham). The function synthesizes new dummy data samples in the minority class to enable class balancing."
   ]
  },
  {
   "cell_type": "code",
   "execution_count": 35,
   "id": "b767d975",
   "metadata": {},
   "outputs": [],
   "source": [
    "X_train, X_test, y_train, y_test = train_test_split(df['text_clean'], df['label'].values, test_size=0.30)"
   ]
  },
  {
   "cell_type": "markdown",
   "id": "d912153e",
   "metadata": {},
   "source": [
    "After splitting the dataset, we will use the Counter module to check the number of data samples in the majority and minority classes. We import the module as follows:"
   ]
  },
  {
   "cell_type": "code",
   "execution_count": 36,
   "id": "4ee3f69d",
   "metadata": {},
   "outputs": [],
   "source": [
    "from collections import Counter"
   ]
  },
  {
   "cell_type": "code",
   "execution_count": 37,
   "id": "5c0f980b",
   "metadata": {},
   "outputs": [
    {
     "data": {
      "text/plain": [
       "Counter({0: 3391, 1: 509})"
      ]
     },
     "execution_count": 37,
     "metadata": {},
     "output_type": "execute_result"
    }
   ],
   "source": [
    "Counter(y_train)"
   ]
  },
  {
   "cell_type": "code",
   "execution_count": 38,
   "id": "1bf72bb7",
   "metadata": {},
   "outputs": [
    {
     "data": {
      "text/html": [
       "<style>#sk-container-id-1 {color: black;background-color: white;}#sk-container-id-1 pre{padding: 0;}#sk-container-id-1 div.sk-toggleable {background-color: white;}#sk-container-id-1 label.sk-toggleable__label {cursor: pointer;display: block;width: 100%;margin-bottom: 0;padding: 0.3em;box-sizing: border-box;text-align: center;}#sk-container-id-1 label.sk-toggleable__label-arrow:before {content: \"▸\";float: left;margin-right: 0.25em;color: #696969;}#sk-container-id-1 label.sk-toggleable__label-arrow:hover:before {color: black;}#sk-container-id-1 div.sk-estimator:hover label.sk-toggleable__label-arrow:before {color: black;}#sk-container-id-1 div.sk-toggleable__content {max-height: 0;max-width: 0;overflow: hidden;text-align: left;background-color: #f0f8ff;}#sk-container-id-1 div.sk-toggleable__content pre {margin: 0.2em;color: black;border-radius: 0.25em;background-color: #f0f8ff;}#sk-container-id-1 input.sk-toggleable__control:checked~div.sk-toggleable__content {max-height: 200px;max-width: 100%;overflow: auto;}#sk-container-id-1 input.sk-toggleable__control:checked~label.sk-toggleable__label-arrow:before {content: \"▾\";}#sk-container-id-1 div.sk-estimator input.sk-toggleable__control:checked~label.sk-toggleable__label {background-color: #d4ebff;}#sk-container-id-1 div.sk-label input.sk-toggleable__control:checked~label.sk-toggleable__label {background-color: #d4ebff;}#sk-container-id-1 input.sk-hidden--visually {border: 0;clip: rect(1px 1px 1px 1px);clip: rect(1px, 1px, 1px, 1px);height: 1px;margin: -1px;overflow: hidden;padding: 0;position: absolute;width: 1px;}#sk-container-id-1 div.sk-estimator {font-family: monospace;background-color: #f0f8ff;border: 1px dotted black;border-radius: 0.25em;box-sizing: border-box;margin-bottom: 0.5em;}#sk-container-id-1 div.sk-estimator:hover {background-color: #d4ebff;}#sk-container-id-1 div.sk-parallel-item::after {content: \"\";width: 100%;border-bottom: 1px solid gray;flex-grow: 1;}#sk-container-id-1 div.sk-label:hover label.sk-toggleable__label {background-color: #d4ebff;}#sk-container-id-1 div.sk-serial::before {content: \"\";position: absolute;border-left: 1px solid gray;box-sizing: border-box;top: 0;bottom: 0;left: 50%;z-index: 0;}#sk-container-id-1 div.sk-serial {display: flex;flex-direction: column;align-items: center;background-color: white;padding-right: 0.2em;padding-left: 0.2em;position: relative;}#sk-container-id-1 div.sk-item {position: relative;z-index: 1;}#sk-container-id-1 div.sk-parallel {display: flex;align-items: stretch;justify-content: center;background-color: white;position: relative;}#sk-container-id-1 div.sk-item::before, #sk-container-id-1 div.sk-parallel-item::before {content: \"\";position: absolute;border-left: 1px solid gray;box-sizing: border-box;top: 0;bottom: 0;left: 50%;z-index: -1;}#sk-container-id-1 div.sk-parallel-item {display: flex;flex-direction: column;z-index: 1;position: relative;background-color: white;}#sk-container-id-1 div.sk-parallel-item:first-child::after {align-self: flex-end;width: 50%;}#sk-container-id-1 div.sk-parallel-item:last-child::after {align-self: flex-start;width: 50%;}#sk-container-id-1 div.sk-parallel-item:only-child::after {width: 0;}#sk-container-id-1 div.sk-dashed-wrapped {border: 1px dashed gray;margin: 0 0.4em 0.5em 0.4em;box-sizing: border-box;padding-bottom: 0.4em;background-color: white;}#sk-container-id-1 div.sk-label label {font-family: monospace;font-weight: bold;display: inline-block;line-height: 1.2em;}#sk-container-id-1 div.sk-label-container {text-align: center;}#sk-container-id-1 div.sk-container {/* jupyter's `normalize.less` sets `[hidden] { display: none; }` but bootstrap.min.css set `[hidden] { display: none !important; }` so we also need the `!important` here to be able to override the default hidden behavior on the sphinx rendered scikit-learn.org. See: https://github.com/scikit-learn/scikit-learn/issues/21755 */display: inline-block !important;position: relative;}#sk-container-id-1 div.sk-text-repr-fallback {display: none;}</style><div id=\"sk-container-id-1\" class=\"sk-top-container\"><div class=\"sk-text-repr-fallback\"><pre>TfidfVectorizer()</pre><b>In a Jupyter environment, please rerun this cell to show the HTML representation or trust the notebook. <br />On GitHub, the HTML representation is unable to render, please try loading this page with nbviewer.org.</b></div><div class=\"sk-container\" hidden><div class=\"sk-item\"><div class=\"sk-estimator sk-toggleable\"><input class=\"sk-toggleable__control sk-hidden--visually\" id=\"sk-estimator-id-1\" type=\"checkbox\" checked><label for=\"sk-estimator-id-1\" class=\"sk-toggleable__label sk-toggleable__label-arrow\">TfidfVectorizer</label><div class=\"sk-toggleable__content\"><pre>TfidfVectorizer()</pre></div></div></div></div></div>"
      ],
      "text/plain": [
       "TfidfVectorizer()"
      ]
     },
     "execution_count": 38,
     "metadata": {},
     "output_type": "execute_result"
    }
   ],
   "source": [
    "#Vectorizing the X_train\n",
    "vectorizer = TfidfVectorizer()\n",
    "vectorizer.fit(X_train)"
   ]
  },
  {
   "cell_type": "markdown",
   "id": "08fd75a6",
   "metadata": {},
   "source": [
    "The fit function will fit the initialized TfidfVectorizer function to the X_train. We then use the transform function to apply the vectorization method."
   ]
  },
  {
   "cell_type": "code",
   "execution_count": 39,
   "id": "54ca1a24",
   "metadata": {},
   "outputs": [],
   "source": [
    "X_train_tf = vectorizer.transform(X_train)"
   ]
  },
  {
   "cell_type": "markdown",
   "id": "6500b291",
   "metadata": {},
   "source": [
    "We finally convert the transformed text (sparse matrix) to an array as follows:\n",
    "\n"
   ]
  },
  {
   "cell_type": "code",
   "execution_count": 40,
   "id": "8d89ee27",
   "metadata": {},
   "outputs": [],
   "source": [
    "X_train_tf = X_train_tf.toarray()"
   ]
  },
  {
   "cell_type": "code",
   "execution_count": 41,
   "id": "6ddd6773",
   "metadata": {},
   "outputs": [],
   "source": [
    "#Vectorizing the X_test\n",
    "X_test_tf = vectorizer.transform(X_test)\n",
    "X_test_tf = X_test_tf.toarray()"
   ]
  },
  {
   "cell_type": "markdown",
   "id": "4045280a",
   "metadata": {},
   "source": [
    "Let’s now apply the RandomOverSampler function.\n",
    "\n",
    "Applying RandomOverSampler function\n",
    "We use the following code:"
   ]
  },
  {
   "cell_type": "code",
   "execution_count": 42,
   "id": "a6730dcf",
   "metadata": {},
   "outputs": [],
   "source": [
    "ROS = RandomOverSampler(sampling_strategy=1)"
   ]
  },
  {
   "cell_type": "markdown",
   "id": "8d92fbce",
   "metadata": {},
   "source": [
    "The function uses the sampling_strategy parameter to balance the class. We set the parameter’s value to 1 to ensure the dataset classes have 1:1 data samples. We then apply the function to the training set. It will generate the new data samples to ensure both classes are balance"
   ]
  },
  {
   "cell_type": "code",
   "execution_count": 43,
   "id": "52954cfd",
   "metadata": {},
   "outputs": [],
   "source": [
    "X_train_ros, y_train_ros = ROS.fit_resample(X_train_tf, y_train)"
   ]
  },
  {
   "cell_type": "markdown",
   "id": "42d90721",
   "metadata": {},
   "source": [
    "Let’s recheck the number of data samples in the majority and minority classes:"
   ]
  },
  {
   "cell_type": "code",
   "execution_count": 44,
   "id": "e33c713e",
   "metadata": {
    "scrolled": true
   },
   "outputs": [
    {
     "data": {
      "text/plain": [
       "Counter({0: 3391, 1: 3391})"
      ]
     },
     "execution_count": 44,
     "metadata": {},
     "output_type": "execute_result"
    }
   ],
   "source": [
    "Counter(y_train_ros)"
   ]
  },
  {
   "cell_type": "markdown",
   "id": "dcf5eb4e",
   "metadata": {},
   "source": [
    "Using the balanced dataset to build the same model"
   ]
  },
  {
   "cell_type": "code",
   "execution_count": 45,
   "id": "0245daa6",
   "metadata": {},
   "outputs": [
    {
     "name": "stdout",
     "output_type": "stream",
     "text": [
      "[0 0 1 ... 0 0 0]\n"
     ]
    }
   ],
   "source": [
    "nb = GaussianNB()\n",
    "nb.fit(X_train_ros, y_train_ros)\n",
    "y_preds = nb.predict(X_test_tf)\n",
    "print(y_preds)"
   ]
  },
  {
   "cell_type": "code",
   "execution_count": 46,
   "id": "ec149c83",
   "metadata": {},
   "outputs": [
    {
     "name": "stdout",
     "output_type": "stream",
     "text": [
      "0.8851674641148325\n"
     ]
    }
   ],
   "source": [
    "print(accuracy_score(y_test, y_preds))"
   ]
  },
  {
   "cell_type": "markdown",
   "id": "0c3565fa",
   "metadata": {},
   "source": [
    "Actually NLP is one of the most common areas in which resampling of data is needed as there are many text classification tasks dealing with imbalanced problem (think of spam filtering, insulting comment detection, article classification, etc."
   ]
  },
  {
   "cell_type": "markdown",
   "id": "b61e0ff4",
   "metadata": {},
   "source": [
    "# Oversampling"
   ]
  },
  {
   "cell_type": "code",
   "execution_count": 47,
   "id": "c6d7d3b5",
   "metadata": {},
   "outputs": [
    {
     "data": {
      "text/plain": [
       "(5572, 7858)"
      ]
     },
     "execution_count": 47,
     "metadata": {},
     "output_type": "execute_result"
    }
   ],
   "source": [
    "X_tf.shape"
   ]
  },
  {
   "cell_type": "code",
   "execution_count": 48,
   "id": "92f5539b",
   "metadata": {},
   "outputs": [],
   "source": [
    "from imblearn.over_sampling import SMOTE, KMeansSMOTE , ADASYN,SVMSMOTE,KMeansSMOTE,BorderlineSMOTE\n",
    "from imblearn.combine import SMOTEENN, SMOTETomek\n",
    "from imblearn.metrics import classification_report_imbalanced"
   ]
  },
  {
   "cell_type": "code",
   "execution_count": 49,
   "id": "a35751ad",
   "metadata": {},
   "outputs": [],
   "source": [
    "def run_model(X,y,model):\n",
    "    X_train, X_test, y_train, y_test = train_test_split(X, y, test_size=0.30)\n",
    "    print(Counter(y_train))\n",
    "    vectorizer_smote = TfidfVectorizer()\n",
    "    vectorizer_smote.fit(X_train)\n",
    "    #Vectorizing the X_train\n",
    "    X_train_vec = vectorizer_smote.transform(X_train)\n",
    "    X_train_vec = X_train_vec.toarray()\n",
    "    #Vectorizing the X_test\n",
    "    X_test_vec = vectorizer_smote.transform(X_test)\n",
    "    X_test_vec = X_test_vec.toarray()\n",
    "    # transform the dataset\n",
    "    oversample = model\n",
    "    X_train_over, y_train_over = oversample.fit_resample(X_train_vec, y_train)\n",
    "    print(Counter(y_train_over))\n",
    "    nb = GaussianNB()\n",
    "    nb.fit(X_train_over, y_train_over)\n",
    "    y_preds = nb.predict(X_test_vec)\n",
    "    score = accuracy_score(y_test,y_preds)\n",
    "    print(\"Accuracy: \",score)\n",
    "    #target_names = ['class 0', 'class 1'] \n",
    "    #print(classification_report_imbalanced(y_test, y_preds,     target_names=target_names))\n",
    "    return score"
   ]
  },
  {
   "cell_type": "code",
   "execution_count": 50,
   "id": "e7d0233c",
   "metadata": {},
   "outputs": [],
   "source": [
    "X=df['text_clean']\n",
    "y=df['label'].values"
   ]
  },
  {
   "cell_type": "code",
   "execution_count": 51,
   "id": "f3851cf9",
   "metadata": {},
   "outputs": [
    {
     "name": "stdout",
     "output_type": "stream",
     "text": [
      "Counter({0: 3353, 1: 547})\n",
      "Counter({0: 3353, 1: 3353})\n",
      "Accuracy:  0.8839712918660287\n"
     ]
    }
   ],
   "source": [
    "#Object to over-sample the minority class(es) by picking samples at random with replacement. \n",
    "oversample= RandomOverSampler(sampling_strategy=1)\n",
    "ov1=run_model(X,y,model=oversample)"
   ]
  },
  {
   "cell_type": "code",
   "execution_count": 52,
   "id": "59ce2ede",
   "metadata": {},
   "outputs": [
    {
     "name": "stdout",
     "output_type": "stream",
     "text": [
      "Counter({0: 3389, 1: 511})\n",
      "Counter({0: 3389, 1: 677})\n",
      "Accuracy:  0.882177033492823\n"
     ]
    }
   ],
   "source": [
    "# over-sampling using SMOTE.\n",
    "oversample=SMOTE(sampling_strategy=0.2)\n",
    "ov2=run_model(X,y,model=oversample)"
   ]
  },
  {
   "cell_type": "code",
   "execution_count": 53,
   "id": "50333569",
   "metadata": {},
   "outputs": [
    {
     "name": "stdout",
     "output_type": "stream",
     "text": [
      "Counter({0: 3375, 1: 525})\n",
      "Counter({1: 3399, 0: 3375})\n",
      "Accuracy:  0.8708133971291866\n"
     ]
    }
   ],
   "source": [
    "#Oversample using Adaptive Synthetic (ADASYN) algorithm.\n",
    "oversample = ADASYN()\n",
    "ov3=run_model(X,y,model=oversample)"
   ]
  },
  {
   "cell_type": "code",
   "execution_count": 54,
   "id": "9b960588",
   "metadata": {
    "scrolled": true
   },
   "outputs": [
    {
     "name": "stdout",
     "output_type": "stream",
     "text": [
      "Counter({0: 3391, 1: 509})\n",
      "Counter({1: 3391, 0: 3391})\n",
      "Accuracy:  0.8929425837320574\n"
     ]
    }
   ],
   "source": [
    "#KMeans clustering before to over-sample using SMOTE.\n",
    "oversample=KMeansSMOTE()\n",
    "ov4=run_model(X,y,model=oversample)"
   ]
  },
  {
   "cell_type": "code",
   "execution_count": 55,
   "id": "b4a1fb3e",
   "metadata": {},
   "outputs": [
    {
     "name": "stdout",
     "output_type": "stream",
     "text": [
      "Counter({0: 3376, 1: 524})\n",
      "Counter({0: 3376, 1: 3376})\n",
      "Accuracy:  0.8803827751196173\n"
     ]
    }
   ],
   "source": [
    "#Over-sampling using Borderline SMOTE\n",
    "oversample=BorderlineSMOTE()\n",
    "ov5=run_model(X,y,model=oversample)"
   ]
  },
  {
   "cell_type": "code",
   "execution_count": 56,
   "id": "482a9648",
   "metadata": {},
   "outputs": [
    {
     "name": "stdout",
     "output_type": "stream",
     "text": [
      "Counter({0: 3376, 1: 524})\n",
      "Counter({0: 3361, 1: 3352})\n",
      "Accuracy:  0.8738038277511961\n"
     ]
    }
   ],
   "source": [
    "#Over-sampling using SMOTE and cleaning using ENN.\n",
    "oversample=SMOTEENN()\n",
    "ov6=run_model(X,y,model=oversample)"
   ]
  },
  {
   "cell_type": "code",
   "execution_count": 57,
   "id": "1c2f84a6",
   "metadata": {},
   "outputs": [
    {
     "name": "stdout",
     "output_type": "stream",
     "text": [
      "Counter({0: 3391, 1: 509})\n",
      "Counter({0: 3391, 1: 3391})\n",
      "Accuracy:  0.882177033492823\n"
     ]
    }
   ],
   "source": [
    "#Over-sampling using SVM-SMOTE.\n",
    "oversample=SVMSMOTE()\n",
    "ov7=run_model(X,y,model=oversample)"
   ]
  },
  {
   "cell_type": "code",
   "execution_count": 58,
   "id": "40cc760d",
   "metadata": {},
   "outputs": [
    {
     "data": {
      "text/html": [
       "<div>\n",
       "<style scoped>\n",
       "    .dataframe tbody tr th:only-of-type {\n",
       "        vertical-align: middle;\n",
       "    }\n",
       "\n",
       "    .dataframe tbody tr th {\n",
       "        vertical-align: top;\n",
       "    }\n",
       "\n",
       "    .dataframe thead th {\n",
       "        text-align: right;\n",
       "    }\n",
       "</style>\n",
       "<table border=\"1\" class=\"dataframe\">\n",
       "  <thead>\n",
       "    <tr style=\"text-align: right;\">\n",
       "      <th></th>\n",
       "      <th>Model</th>\n",
       "      <th>Accuracy_score</th>\n",
       "    </tr>\n",
       "  </thead>\n",
       "  <tbody>\n",
       "    <tr>\n",
       "      <th>3</th>\n",
       "      <td>KMeans-SMOTE</td>\n",
       "      <td>0.892943</td>\n",
       "    </tr>\n",
       "    <tr>\n",
       "      <th>0</th>\n",
       "      <td>RandomOverSampler</td>\n",
       "      <td>0.883971</td>\n",
       "    </tr>\n",
       "    <tr>\n",
       "      <th>1</th>\n",
       "      <td>SMOTE</td>\n",
       "      <td>0.882177</td>\n",
       "    </tr>\n",
       "    <tr>\n",
       "      <th>4</th>\n",
       "      <td>Borderline-SMOTE</td>\n",
       "      <td>0.880383</td>\n",
       "    </tr>\n",
       "    <tr>\n",
       "      <th>5</th>\n",
       "      <td>SMOTE-ENN</td>\n",
       "      <td>0.873804</td>\n",
       "    </tr>\n",
       "    <tr>\n",
       "      <th>2</th>\n",
       "      <td>ADASYN</td>\n",
       "      <td>0.870813</td>\n",
       "    </tr>\n",
       "  </tbody>\n",
       "</table>\n",
       "</div>"
      ],
      "text/plain": [
       "               Model  Accuracy_score\n",
       "3       KMeans-SMOTE        0.892943\n",
       "0  RandomOverSampler        0.883971\n",
       "1              SMOTE        0.882177\n",
       "4   Borderline-SMOTE        0.880383\n",
       "5          SMOTE-ENN        0.873804\n",
       "2             ADASYN        0.870813"
      ]
     },
     "execution_count": 58,
     "metadata": {},
     "output_type": "execute_result"
    },
    {
     "data": {
      "image/png": "[encoded data removed]",
      "text/plain": [
       "<Figure size 640x480 with 1 Axes>"
      ]
     },
     "metadata": {},
     "output_type": "display_data"
    }
   ],
   "source": [
    "over_models = pd.DataFrame({\n",
    "    'Model':['RandomOverSampler',\n",
    "             'SMOTE',\n",
    "             'ADASYN',\n",
    "             'KMeans-SMOTE',\n",
    "             'Borderline-SMOTE',\n",
    "             'SMOTE-ENN'\n",
    "            ],\n",
    "    'Accuracy_score' :[ov1 ,ov2, ov3, ov4,ov5,ov6\n",
    "                      ]\n",
    "})\n",
    "sns.barplot(x='Accuracy_score', y='Model', data=over_models)\n",
    "over_models.sort_values(by='Accuracy_score', ascending=False)"
   ]
  },
  {
   "cell_type": "markdown",
   "id": "a78a766b",
   "metadata": {},
   "source": [
    "# Downsampling"
   ]
  },
  {
   "cell_type": "code",
   "execution_count": 59,
   "id": "a7d1726b",
   "metadata": {},
   "outputs": [],
   "source": [
    "from imblearn.under_sampling  import RandomUnderSampler,AllKNN,NearMiss, TomekLinks"
   ]
  },
  {
   "cell_type": "code",
   "execution_count": 60,
   "id": "82c9210a",
   "metadata": {},
   "outputs": [
    {
     "name": "stdout",
     "output_type": "stream",
     "text": [
      "Counter({0: 3393, 1: 507})\n",
      "Counter({0: 507, 1: 507})\n",
      "Accuracy:  0.8331339712918661\n"
     ]
    }
   ],
   "source": [
    "# random under-sampling\n",
    "undersample=RandomUnderSampler()\n",
    "un1=run_model(X,y,model=undersample)"
   ]
  },
  {
   "cell_type": "code",
   "execution_count": 61,
   "id": "1e9f8185",
   "metadata": {},
   "outputs": [
    {
     "name": "stdout",
     "output_type": "stream",
     "text": [
      "Counter({0: 3373, 1: 527})\n",
      "Counter({0: 3370, 1: 527})\n",
      "Accuracy:  0.8779904306220095\n"
     ]
    }
   ],
   "source": [
    "# Undersample based on the AllKNN method.\n",
    "undersample=AllKNN()\n",
    "un2=run_model(X,y,model=undersample)"
   ]
  },
  {
   "cell_type": "code",
   "execution_count": 62,
   "id": "3ad3c424",
   "metadata": {},
   "outputs": [
    {
     "name": "stdout",
     "output_type": "stream",
     "text": [
      "Counter({0: 3395, 1: 505})\n",
      "Counter({0: 505, 1: 505})\n",
      "Accuracy:  0.8462918660287081\n"
     ]
    }
   ],
   "source": [
    "# under-sampling based on NearMiss methods.\n",
    "# NearMiss-1: Majority class examples with minimum average distance to three closest minority class examples.\n",
    "undersample=NearMiss(version=1)\n",
    "un3=run_model(X,y,model=undersample)"
   ]
  },
  {
   "cell_type": "code",
   "execution_count": 63,
   "id": "4e781628",
   "metadata": {},
   "outputs": [
    {
     "name": "stdout",
     "output_type": "stream",
     "text": [
      "Counter({0: 3385, 1: 515})\n",
      "Counter({0: 3383, 1: 515})\n",
      "Accuracy:  0.8845693779904307\n"
     ]
    }
   ],
   "source": [
    "#Under-sampling by removing Tomek's links.\n",
    "undersample=TomekLinks()\n",
    "un4=run_model(X,y,model=undersample)"
   ]
  },
  {
   "cell_type": "code",
   "execution_count": 64,
   "id": "50184be9",
   "metadata": {},
   "outputs": [
    {
     "data": {
      "text/html": [
       "<div>\n",
       "<style scoped>\n",
       "    .dataframe tbody tr th:only-of-type {\n",
       "        vertical-align: middle;\n",
       "    }\n",
       "\n",
       "    .dataframe tbody tr th {\n",
       "        vertical-align: top;\n",
       "    }\n",
       "\n",
       "    .dataframe thead th {\n",
       "        text-align: right;\n",
       "    }\n",
       "</style>\n",
       "<table border=\"1\" class=\"dataframe\">\n",
       "  <thead>\n",
       "    <tr style=\"text-align: right;\">\n",
       "      <th></th>\n",
       "      <th>Model</th>\n",
       "      <th>Accuracy_score</th>\n",
       "    </tr>\n",
       "  </thead>\n",
       "  <tbody>\n",
       "    <tr>\n",
       "      <th>3</th>\n",
       "      <td>Tomek</td>\n",
       "      <td>0.884569</td>\n",
       "    </tr>\n",
       "    <tr>\n",
       "      <th>1</th>\n",
       "      <td>AllKNN</td>\n",
       "      <td>0.877990</td>\n",
       "    </tr>\n",
       "    <tr>\n",
       "      <th>2</th>\n",
       "      <td>NearMiss</td>\n",
       "      <td>0.846292</td>\n",
       "    </tr>\n",
       "    <tr>\n",
       "      <th>0</th>\n",
       "      <td>RandomUnderSampler</td>\n",
       "      <td>0.833134</td>\n",
       "    </tr>\n",
       "  </tbody>\n",
       "</table>\n",
       "</div>"
      ],
      "text/plain": [
       "                Model  Accuracy_score\n",
       "3               Tomek        0.884569\n",
       "1              AllKNN        0.877990\n",
       "2            NearMiss        0.846292\n",
       "0  RandomUnderSampler        0.833134"
      ]
     },
     "execution_count": 64,
     "metadata": {},
     "output_type": "execute_result"
    },
    {
     "data": {
      "image/png": "[encoded data removed]",
      "text/plain": [
       "<Figure size 640x480 with 1 Axes>"
      ]
     },
     "metadata": {},
     "output_type": "display_data"
    }
   ],
   "source": [
    "under_models = pd.DataFrame({\n",
    "    'Model':['RandomUnderSampler',\n",
    "             'AllKNN',\n",
    "             'NearMiss',\n",
    "             'Tomek'\n",
    "            ],\n",
    "    'Accuracy_score' :[un1 ,un2, un3, un4,\n",
    "                      ]\n",
    "})\n",
    "sns.barplot(x='Accuracy_score', y='Model', data=under_models)\n",
    "under_models.sort_values(by='Accuracy_score', ascending=False)"
   ]
  },
  {
   "cell_type": "markdown",
   "id": "c872125c",
   "metadata": {},
   "source": [
    "# Pipeline"
   ]
  },
  {
   "cell_type": "markdown",
   "id": "aa87b618",
   "metadata": {},
   "source": [
    "TF-IDF - normalizing and weighting with diminishing importance tokens that occur in the majority of documents.\n",
    "\n",
    "1.TF(Term frequency)-Term frequency works by looking at the frequency of a particular term you are concerned with relative to the document. There are multiple measures, or ways, of defining frequency\n",
    "\n",
    "2.IDF (inverse document frequency)-Inverse document frequency looks at how common (or uncommon) a word is amongst the corpus."
   ]
  },
  {
   "cell_type": "markdown",
   "id": "35e7d211",
   "metadata": {},
   "source": [
    "The output above shows the label column has the assigned integer values (0 and 1). The next step is to implement text vectorization."
   ]
  },
  {
   "cell_type": "markdown",
   "id": "54ad80cb",
   "metadata": {},
   "source": [
    "We will split the vectorized dataset into two portions/sets. The first portion will be for model training and the second portion for model testing. We will use the train_test_split method to split the vectorized dataset."
   ]
  },
  {
   "cell_type": "code",
   "execution_count": 65,
   "id": "7d0c94e8",
   "metadata": {},
   "outputs": [],
   "source": [
    "#split the data into train and test sets\n",
    "X=df['text_clean']\n",
    "y=df['label']\n",
    "#y=df['label']\n",
    "X_train, X_test, y_train, y_test = train_test_split(X,y,test_size = 0.2, random_state = 42)"
   ]
  },
  {
   "cell_type": "code",
   "execution_count": 66,
   "id": "50d67805",
   "metadata": {},
   "outputs": [],
   "source": [
    "def model(model_name,X_train,y_train,X_test,y_test):\n",
    "    pipeline=Pipeline([\n",
    "    ('tfidf', TfidfVectorizer()),#transform the texts into the vectorized input variables X\n",
    "    ('model', model_name),\n",
    "    ])\n",
    "    pipeline.fit(X_train,y_train)\n",
    "\n",
    "    preds=pipeline.predict(X_test)\n",
    "\n",
    "    print (classification_report(y_test,preds))\n",
    "    print (confusion_matrix(y_test,preds))\n",
    "    print('Accuracy:', pipeline.score(X_test, y_test)*100)\n",
    "    print(\"Training Score:\",pipeline.score(X_train,y_train)*100)\n",
    "    from sklearn.metrics import accuracy_score\n",
    "    score = accuracy_score(y_test,preds)\n",
    "    return score"
   ]
  },
  {
   "cell_type": "markdown",
   "id": "3b3dbbd0",
   "metadata": {},
   "source": [
    "MultinomialNB"
   ]
  },
  {
   "cell_type": "code",
   "execution_count": 67,
   "id": "06574bb2",
   "metadata": {},
   "outputs": [
    {
     "name": "stdout",
     "output_type": "stream",
     "text": [
      "              precision    recall  f1-score   support\n",
      "\n",
      "           0       0.96      1.00      0.98       965\n",
      "           1       1.00      0.75      0.85       150\n",
      "\n",
      "    accuracy                           0.97      1115\n",
      "   macro avg       0.98      0.87      0.92      1115\n",
      "weighted avg       0.97      0.97      0.96      1115\n",
      "\n",
      "[[965   0]\n",
      " [ 38 112]]\n",
      "Accuracy: 96.59192825112108\n",
      "Training Score: 97.55440879515369\n"
     ]
    }
   ],
   "source": [
    "mnb=model(MultinomialNB(),X_train,y_train,X_test,y_test)"
   ]
  },
  {
   "cell_type": "markdown",
   "id": "68afa665",
   "metadata": {},
   "source": [
    "RF\n"
   ]
  },
  {
   "cell_type": "code",
   "execution_count": 68,
   "id": "ee18d3f8",
   "metadata": {
    "scrolled": true
   },
   "outputs": [
    {
     "name": "stdout",
     "output_type": "stream",
     "text": [
      "              precision    recall  f1-score   support\n",
      "\n",
      "           0       0.97      1.00      0.99       965\n",
      "           1       1.00      0.83      0.91       150\n",
      "\n",
      "    accuracy                           0.98      1115\n",
      "   macro avg       0.99      0.92      0.95      1115\n",
      "weighted avg       0.98      0.98      0.98      1115\n",
      "\n",
      "[[965   0]\n",
      " [ 25 125]]\n",
      "Accuracy: 97.75784753363229\n",
      "Training Score: 100.0\n"
     ]
    }
   ],
   "source": [
    "rf=model(RandomForestClassifier(),X_train,y_train,X_test,y_test)"
   ]
  },
  {
   "cell_type": "markdown",
   "id": "9eacf211",
   "metadata": {},
   "source": [
    "XGBoost"
   ]
  },
  {
   "cell_type": "code",
   "execution_count": 69,
   "id": "39ae9bfe",
   "metadata": {},
   "outputs": [
    {
     "name": "stdout",
     "output_type": "stream",
     "text": [
      "              precision    recall  f1-score   support\n",
      "\n",
      "           0       0.97      1.00      0.98       965\n",
      "           1       0.97      0.82      0.89       150\n",
      "\n",
      "    accuracy                           0.97      1115\n",
      "   macro avg       0.97      0.91      0.94      1115\n",
      "weighted avg       0.97      0.97      0.97      1115\n",
      "\n",
      "[[961   4]\n",
      " [ 27 123]]\n",
      "Accuracy: 97.21973094170404\n",
      "Training Score: 98.99035225487997\n"
     ]
    }
   ],
   "source": [
    "xgb=model(XGBClassifier(),X_train,y_train,X_test,y_test)"
   ]
  },
  {
   "cell_type": "markdown",
   "id": "efbe75f7",
   "metadata": {},
   "source": [
    "SVM"
   ]
  },
  {
   "cell_type": "code",
   "execution_count": 70,
   "id": "ed089f21",
   "metadata": {},
   "outputs": [
    {
     "name": "stdout",
     "output_type": "stream",
     "text": [
      "              precision    recall  f1-score   support\n",
      "\n",
      "           0       0.97      1.00      0.99       965\n",
      "           1       0.98      0.83      0.90       150\n",
      "\n",
      "    accuracy                           0.98      1115\n",
      "   macro avg       0.98      0.92      0.94      1115\n",
      "weighted avg       0.98      0.98      0.97      1115\n",
      "\n",
      "[[963   2]\n",
      " [ 25 125]]\n",
      "Accuracy: 97.57847533632287\n",
      "Training Score: 99.73076060130133\n"
     ]
    }
   ],
   "source": [
    "svc=model(SVC(),X_train,y_train,X_test,y_test)"
   ]
  },
  {
   "cell_type": "markdown",
   "id": "83092e09",
   "metadata": {},
   "source": [
    "Model Comparison"
   ]
  },
  {
   "cell_type": "code",
   "execution_count": 71,
   "id": "22f06814",
   "metadata": {},
   "outputs": [
    {
     "data": {
      "text/html": [
       "<div>\n",
       "<style scoped>\n",
       "    .dataframe tbody tr th:only-of-type {\n",
       "        vertical-align: middle;\n",
       "    }\n",
       "\n",
       "    .dataframe tbody tr th {\n",
       "        vertical-align: top;\n",
       "    }\n",
       "\n",
       "    .dataframe thead th {\n",
       "        text-align: right;\n",
       "    }\n",
       "</style>\n",
       "<table border=\"1\" class=\"dataframe\">\n",
       "  <thead>\n",
       "    <tr style=\"text-align: right;\">\n",
       "      <th></th>\n",
       "      <th>Model</th>\n",
       "      <th>Accuracy_score</th>\n",
       "    </tr>\n",
       "  </thead>\n",
       "  <tbody>\n",
       "    <tr>\n",
       "      <th>1</th>\n",
       "      <td>RF</td>\n",
       "      <td>0.977578</td>\n",
       "    </tr>\n",
       "    <tr>\n",
       "      <th>3</th>\n",
       "      <td>SVM</td>\n",
       "      <td>0.975785</td>\n",
       "    </tr>\n",
       "    <tr>\n",
       "      <th>2</th>\n",
       "      <td>XGBoost</td>\n",
       "      <td>0.972197</td>\n",
       "    </tr>\n",
       "    <tr>\n",
       "      <th>0</th>\n",
       "      <td>MNB</td>\n",
       "      <td>0.965919</td>\n",
       "    </tr>\n",
       "  </tbody>\n",
       "</table>\n",
       "</div>"
      ],
      "text/plain": [
       "     Model  Accuracy_score\n",
       "1       RF        0.977578\n",
       "3      SVM        0.975785\n",
       "2  XGBoost        0.972197\n",
       "0      MNB        0.965919"
      ]
     },
     "execution_count": 71,
     "metadata": {},
     "output_type": "execute_result"
    },
    {
     "data": {
      "image/png": "[encoded data removed]",
      "text/plain": [
       "<Figure size 640x480 with 1 Axes>"
      ]
     },
     "metadata": {},
     "output_type": "display_data"
    }
   ],
   "source": [
    "models = pd.DataFrame({\n",
    "    'Model':['MNB','RF','XGBoost', 'SVM'],\n",
    "    'Accuracy_score' :[mnb ,rf, xgb, svc]\n",
    "})\n",
    "sns.barplot(x='Accuracy_score', y='Model', data=models)\n",
    "models.sort_values(by='Accuracy_score', ascending=False)"
   ]
  },
  {
   "cell_type": "markdown",
   "id": "d237f834",
   "metadata": {},
   "source": [
    "# Final model"
   ]
  },
  {
   "cell_type": "code",
   "execution_count": 72,
   "id": "e77fea64",
   "metadata": {},
   "outputs": [],
   "source": [
    "def run_model_sampling(X,y,mlmodel,sampling=None):\n",
    "    X_train, X_test, y_train, y_test = train_test_split(X, y, test_size=0.30)\n",
    "    print(Counter(y_train))\n",
    "    vectorizer_smote = TfidfVectorizer()\n",
    "    vectorizer_smote.fit(X_train)\n",
    "    #Vectorizing the X_train\n",
    "    X_train_vec = vectorizer_smote.transform(X_train)\n",
    "    X_train_vec = X_train_vec.toarray()\n",
    "    #Vectorizing the X_test\n",
    "    X_test_vec = vectorizer_smote.transform(X_test)\n",
    "    X_test_vec = X_test_vec.toarray()\n",
    "    # transform the dataset ( Sampling model)\n",
    "    oversample = sampling\n",
    "    if oversample: \n",
    "        X_train_over, y_train_over = oversample.fit_resample(X_train_vec, y_train)\n",
    "        X_train_vec= X_train_over \n",
    "        y_train = y_train_over        \n",
    "    print(Counter(y_train))\n",
    "    # Machine Learning Model\n",
    "    model=mlmodel\n",
    "    model.fit(X_train_vec, y_train)\n",
    "    y_preds = model.predict(X_test_vec)\n",
    "    score = accuracy_score(y_test,y_preds)\n",
    "    print(\"Accuracy: \",score)\n",
    "    target_names = ['class 0', 'class 1'] \n",
    "    print(classification_report_imbalanced(y_test, y_preds, target_names=target_names))\n",
    "    return score"
   ]
  },
  {
   "cell_type": "code",
   "execution_count": 73,
   "id": "24c37855",
   "metadata": {},
   "outputs": [
    {
     "name": "stdout",
     "output_type": "stream",
     "text": [
      "Counter({0: 3364, 1: 536})\n",
      "Counter({0: 3364, 1: 3364})\n",
      "Accuracy:  0.9736842105263158\n",
      "                   pre       rec       spe        f1       geo       iba       sup\n",
      "\n",
      "    class 0       0.97      1.00      0.79      0.99      0.89      0.81      1461\n",
      "    class 1       1.00      0.79      1.00      0.88      0.89      0.77       211\n",
      "\n",
      "avg / total       0.97      0.97      0.82      0.97      0.89      0.80      1672\n",
      "\n"
     ]
    },
    {
     "data": {
      "text/plain": [
       "0.9736842105263158"
      ]
     },
     "execution_count": 73,
     "metadata": {},
     "output_type": "execute_result"
    }
   ],
   "source": [
    "X=df['text_clean']\n",
    "y=df['label'].values\n",
    "mlmodel=RandomForestClassifier()\n",
    "sampling=KMeansSMOTE()\n",
    "run_model_sampling(X,y,mlmodel,sampling)"
   ]
  },
  {
   "cell_type": "code",
   "execution_count": 74,
   "id": "bafe5242",
   "metadata": {},
   "outputs": [
    {
     "name": "stdout",
     "output_type": "stream",
     "text": [
      "Counter({0: 3390, 1: 510})\n",
      "Counter({0: 3390, 1: 510})\n",
      "Accuracy:  0.9766746411483254\n",
      "                   pre       rec       spe        f1       geo       iba       sup\n",
      "\n",
      "    class 0       0.97      1.00      0.84      0.99      0.91      0.85      1435\n",
      "    class 1       1.00      0.84      1.00      0.91      0.91      0.82       237\n",
      "\n",
      "avg / total       0.98      0.98      0.86      0.98      0.91      0.85      1672\n",
      "\n"
     ]
    },
    {
     "data": {
      "text/plain": [
       "0.9766746411483254"
      ]
     },
     "execution_count": 74,
     "metadata": {},
     "output_type": "execute_result"
    }
   ],
   "source": [
    "X=df['text_clean']\n",
    "y=df['label'].values\n",
    "mlmodel=RandomForestClassifier()\n",
    "run_model_sampling(X,y,mlmodel)"
   ]
  },
  {
   "cell_type": "code",
   "execution_count": 75,
   "id": "7bfc911e",
   "metadata": {},
   "outputs": [],
   "source": [
    "import IPython\n",
    "#from IPython.lib import kernel\n",
    "from ipykernel.kernelbase import Kernel\n"
   ]
  },
  {
   "cell_type": "code",
   "execution_count": 76,
   "id": "0921f424",
   "metadata": {},
   "outputs": [
    {
     "data": {
      "application/javascript": [
       "var kernel = IPython.notebook.kernel;\n",
       "var thename = window.document.getElementById(\"notebook_name\").innerHTML;\n",
       "var command = \"theNotebook = \" + \"'\"+thename+\"'\";\n",
       "kernel.execute(command);\n"
      ],
      "text/plain": [
       "<IPython.core.display.Javascript object>"
      ]
     },
     "metadata": {},
     "output_type": "display_data"
    }
   ],
   "source": [
    "%%javascript\n",
    "var kernel = IPython.notebook.kernel;\n",
    "var thename = window.document.getElementById(\"notebook_name\").innerHTML;\n",
    "var command = \"theNotebook = \" + \"'\"+thename+\"'\";\n",
    "kernel.execute(command);"
   ]
  },
  {
   "cell_type": "code",
   "execution_count": 77,
   "id": "e8e231e3",
   "metadata": {},
   "outputs": [
    {
     "name": "stdout",
     "output_type": "stream",
     "text": [
      "jupyter nbconvert nlp.ipynb --to markdown --output nlp.md\n"
     ]
    },
    {
     "data": {
      "text/plain": [
       "0"
      ]
     },
     "execution_count": 77,
     "metadata": {},
     "output_type": "execute_result"
    }
   ],
   "source": [
    "import os\n",
    "command_convert=\"jupyter nbconvert \"\n",
    "command_in=theNotebook+\".ipynb\"\n",
    "command_out=theNotebook+\".md\"\n",
    "command_action=\" --to markdown --output \"\n",
    "command=command_convert+command_in+command_action+command_out\n",
    "print(command)\n",
    "os.system(command)"
   ]
  },
  {
   "cell_type": "code",
   "execution_count": null,
   "id": "d2fc1292",
   "metadata": {},
   "outputs": [],
   "source": []
  }
 ],
 "metadata": {
  "kernelspec": {
   "display_name": "Python (NLP)",
   "language": "python",
   "name": "nlp"
  },
  "language_info": {
   "codemirror_mode": {
    "name": "ipython",
    "version": 3
   },
   "file_extension": ".py",
   "mimetype": "text/x-python",
   "name": "python",
   "nbconvert_exporter": "python",
   "pygments_lexer": "ipython3",
   "version": "3.8.0"
  }
 },
 "nbformat": 4,
 "nbformat_minor": 5
}
